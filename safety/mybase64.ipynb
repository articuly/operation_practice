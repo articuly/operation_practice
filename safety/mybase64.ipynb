{
 "cells": [
  {
   "cell_type": "code",
   "execution_count": 1,
   "metadata": {
    "collapsed": true
   },
   "outputs": [],
   "source": [
    "import base64\n",
    "from urllib.parse import urlencode\n",
    "'''\n",
    "base64将字节数据使用64个可打印字符表示\n",
    "base64.b16encode是基于Base16规则编码\n",
    "base64.b32encode是基于Base32规则编码\n",
    "'''"
   ]
  },
  {
   "cell_type": "code",
   "execution_count": 4,
   "outputs": [
    {
     "data": {
      "text/plain": "b'\\xe5\\x9f\\xba\\xe4\\xba\\x8ebase64\\xe8\\xa7\\x84\\xe5\\x88\\x99\\xe7\\x9a\\x84\\xe7\\xbc\\x96\\xe7\\xa0\\x81\\xe7\\x9a\\x84'"
     },
     "execution_count": 4,
     "metadata": {},
     "output_type": "execute_result"
    }
   ],
   "source": [
    "string='基于base64规则的编码的'.encode()\n",
    "string\n",
    "# \\x表示16位byte，一个汉字3个byte"
   ],
   "metadata": {
    "collapsed": false,
    "pycharm": {
     "name": "#%%\n"
    }
   }
  },
  {
   "cell_type": "code",
   "execution_count": 7,
   "outputs": [
    {
     "name": "stdout",
     "output_type": "stream",
     "text": [
      "60\n",
      "b'E59FBAE4BA8E626173653634E8A784E58899E79A84E7BC96E7A081E79A84'\n"
     ]
    }
   ],
   "source": [
    "res_16=base64.b16encode(string)\n",
    "print(len(res_16))\n",
    "print(res_16)"
   ],
   "metadata": {
    "collapsed": false,
    "pycharm": {
     "name": "#%%\n"
    }
   }
  },
  {
   "cell_type": "code",
   "execution_count": 9,
   "outputs": [
    {
     "name": "stdout",
     "output_type": "stream",
     "text": [
      "48\n",
      "b'4WP3VZF2RZRGC43FGY2ORJ4E4WEJTZ42QTT3ZFXHUCA6PGUE'\n"
     ]
    }
   ],
   "source": [
    "res_32=base64.b32encode(string)\n",
    "print(len(res_32))\n",
    "print(res_32)"
   ],
   "metadata": {
    "collapsed": false,
    "pycharm": {
     "name": "#%%\n"
    }
   }
  },
  {
   "cell_type": "code",
   "execution_count": 10,
   "outputs": [
    {
     "name": "stdout",
     "output_type": "stream",
     "text": [
      "40\n",
      "b'5Z+65LqOYmFzZTY06KeE5YiZ55qE57yW56CB55qE'\n"
     ]
    }
   ],
   "source": [
    "res_64=base64.b64encode(string)\n",
    "print(len(res_64))\n",
    "print(res_64)"
   ],
   "metadata": {
    "collapsed": false,
    "pycharm": {
     "name": "#%%\n"
    }
   }
  },
  {
   "cell_type": "code",
   "execution_count": 11,
   "outputs": [
    {
     "name": "stdout",
     "output_type": "stream",
     "text": [
      "b'3132333435363738'\n",
      "b'GEZDGNBVGY3TQ==='\n",
      "b'MTIzNDU2Nzg='\n"
     ]
    }
   ],
   "source": [
    "str1='12345678'.encode()\n",
    "print(base64.b16encode(str1))\n",
    "print(base64.b32encode(str1))\n",
    "print(base64.b64encode(str1))"
   ],
   "metadata": {
    "collapsed": false,
    "pycharm": {
     "name": "#%%\n"
    }
   }
  },
  {
   "cell_type": "code",
   "execution_count": 12,
   "outputs": [
    {
     "data": {
      "text/plain": "'基于base64规则的编码的'"
     },
     "execution_count": 12,
     "metadata": {},
     "output_type": "execute_result"
    }
   ],
   "source": [
    "base64.b16decode(res_16).decode()"
   ],
   "metadata": {
    "collapsed": false,
    "pycharm": {
     "name": "#%%\n"
    }
   }
  },
  {
   "cell_type": "code",
   "execution_count": 13,
   "outputs": [
    {
     "data": {
      "text/plain": "'基于base64规则的编码的'"
     },
     "execution_count": 13,
     "metadata": {},
     "output_type": "execute_result"
    }
   ],
   "source": [
    "base64.b32decode(res_32).decode()"
   ],
   "metadata": {
    "collapsed": false,
    "pycharm": {
     "name": "#%%\n"
    }
   }
  },
  {
   "cell_type": "code",
   "execution_count": 14,
   "outputs": [
    {
     "data": {
      "text/plain": "'基于base64规则的编码的'"
     },
     "execution_count": 14,
     "metadata": {},
     "output_type": "execute_result"
    }
   ],
   "source": [
    "base64.b64decode(res_64).decode()"
   ],
   "metadata": {
    "collapsed": false,
    "pycharm": {
     "name": "#%%\n"
    }
   }
  },
  {
   "cell_type": "code",
   "execution_count": 20,
   "outputs": [
    {
     "data": {
      "text/plain": "b'YXJ0aWN1bHkuY29tL2hlbGxvIHdvcmxkP3A9MTIz'"
     },
     "execution_count": 20,
     "metadata": {},
     "output_type": "execute_result"
    }
   ],
   "source": [
    "string= b\"articuly.com/hello world?p=123\"\n",
    "res_safe_64=base64.urlsafe_b64encode(string)\n",
    "res_safe_64"
   ],
   "metadata": {
    "collapsed": false,
    "pycharm": {
     "name": "#%%\n"
    }
   }
  },
  {
   "cell_type": "code",
   "execution_count": 21,
   "outputs": [
    {
     "data": {
      "text/plain": "b'YXJ0aWN1bHkuY29tL2hlbGxvIHdvcmxkP3A9MTIz'"
     },
     "execution_count": 21,
     "metadata": {},
     "output_type": "execute_result"
    }
   ],
   "source": [
    "base64.b64encode(string)"
   ],
   "metadata": {
    "collapsed": false,
    "pycharm": {
     "name": "#%%\n"
    }
   }
  },
  {
   "cell_type": "code",
   "execution_count": 22,
   "outputs": [
    {
     "data": {
      "text/plain": "b'articuly.com/hello world?p=123'"
     },
     "execution_count": 22,
     "metadata": {},
     "output_type": "execute_result"
    }
   ],
   "source": [
    "value=base64.urlsafe_b64decode(res_safe_64)\n",
    "value"
   ],
   "metadata": {
    "collapsed": false,
    "pycharm": {
     "name": "#%%\n"
    }
   }
  },
  {
   "cell_type": "code",
   "execution_count": 23,
   "outputs": [
    {
     "data": {
      "text/plain": "'articuly.com/hello world?p=123'"
     },
     "execution_count": 23,
     "metadata": {},
     "output_type": "execute_result"
    }
   ],
   "source": [
    "value.decode()"
   ],
   "metadata": {
    "collapsed": false,
    "pycharm": {
     "name": "#%%\n"
    }
   }
  },
  {
   "cell_type": "code",
   "execution_count": 26,
   "outputs": [
    {
     "data": {
      "text/plain": "b'YXJ0aWN1bHkuY29tL2hlbGxvIHdvcmxkP3A9MTIz'"
     },
     "execution_count": 26,
     "metadata": {},
     "output_type": "execute_result"
    }
   ],
   "source": [
    "res_64=base64.b64encode(string)\n",
    "res_64"
   ],
   "metadata": {
    "collapsed": false,
    "pycharm": {
     "name": "#%%\n"
    }
   }
  },
  {
   "cell_type": "code",
   "execution_count": 27,
   "outputs": [
    {
     "data": {
      "text/plain": "b'articuly.com/hello world?p=123'"
     },
     "execution_count": 27,
     "metadata": {},
     "output_type": "execute_result"
    }
   ],
   "source": [
    "base64.b64decode(res_safe_64)"
   ],
   "metadata": {
    "collapsed": false,
    "pycharm": {
     "name": "#%%\n"
    }
   }
  },
  {
   "cell_type": "code",
   "execution_count": null,
   "outputs": [],
   "source": [
    "# url base64编码\n",
    "# url中\n",
    "# + 表示空格\n",
    "# / 表述路径\n",
    "# 这些字符会在传输时被urlencode转换%等符号，需要再次urldecode解码\n",
    "# 使用urlsafe_b64encode,会将+,/用-,_替代\n",
    "# base64将原来的3个字节转换为四个字节，所以如果字节数非3的倍数，就会有剩余的字节数，需要补足\n",
    "# 末尾有一个=，表示补了一个字节，==表示补了两个字节\n"
   ],
   "metadata": {
    "collapsed": false,
    "pycharm": {
     "name": "#%%\n"
    }
   }
  }
 ],
 "metadata": {
  "kernelspec": {
   "display_name": "Python 3",
   "language": "python",
   "name": "python3"
  },
  "language_info": {
   "codemirror_mode": {
    "name": "ipython",
    "version": 2
   },
   "file_extension": ".py",
   "mimetype": "text/x-python",
   "name": "python",
   "nbconvert_exporter": "python",
   "pygments_lexer": "ipython2",
   "version": "2.7.6"
  }
 },
 "nbformat": 4,
 "nbformat_minor": 0
}